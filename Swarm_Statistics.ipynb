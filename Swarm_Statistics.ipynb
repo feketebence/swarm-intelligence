{
 "cells": [
  {
   "cell_type": "code",
   "execution_count": 1,
   "metadata": {},
   "outputs": [],
   "source": [
    "import matplotlib.pyplot as plt\n",
    "import numpy as np\n",
    "import pandas as pd"
   ]
  },
  {
   "cell_type": "code",
   "execution_count": 32,
   "metadata": {},
   "outputs": [],
   "source": [
    "import pandas as pd\n",
    "\n",
    "statistics = pd.read_csv(\"statistics.txt\",\n",
    "                             sep=\" \",\n",
    "                             header=0,\n",
    "                             names=[\"Time\",\"All_movement_of_particles\"])"
   ]
  },
  {
   "cell_type": "code",
   "execution_count": 33,
   "metadata": {},
   "outputs": [
    {
     "data": {
      "text/html": [
       "<div>\n",
       "<style scoped>\n",
       "    .dataframe tbody tr th:only-of-type {\n",
       "        vertical-align: middle;\n",
       "    }\n",
       "\n",
       "    .dataframe tbody tr th {\n",
       "        vertical-align: top;\n",
       "    }\n",
       "\n",
       "    .dataframe thead th {\n",
       "        text-align: right;\n",
       "    }\n",
       "</style>\n",
       "<table border=\"1\" class=\"dataframe\">\n",
       "  <thead>\n",
       "    <tr style=\"text-align: right;\">\n",
       "      <th></th>\n",
       "      <th>Time</th>\n",
       "      <th>All_movement_of_particles</th>\n",
       "    </tr>\n",
       "  </thead>\n",
       "  <tbody>\n",
       "    <tr>\n",
       "      <th>0</th>\n",
       "      <td>100</td>\n",
       "      <td>0.500053</td>\n",
       "    </tr>\n",
       "    <tr>\n",
       "      <th>1</th>\n",
       "      <td>200</td>\n",
       "      <td>0.471825</td>\n",
       "    </tr>\n",
       "    <tr>\n",
       "      <th>2</th>\n",
       "      <td>300</td>\n",
       "      <td>0.455022</td>\n",
       "    </tr>\n",
       "    <tr>\n",
       "      <th>3</th>\n",
       "      <td>400</td>\n",
       "      <td>0.441741</td>\n",
       "    </tr>\n",
       "    <tr>\n",
       "      <th>4</th>\n",
       "      <td>500</td>\n",
       "      <td>0.430833</td>\n",
       "    </tr>\n",
       "    <tr>\n",
       "      <th>...</th>\n",
       "      <td>...</td>\n",
       "      <td>...</td>\n",
       "    </tr>\n",
       "    <tr>\n",
       "      <th>994</th>\n",
       "      <td>99500</td>\n",
       "      <td>0.485308</td>\n",
       "    </tr>\n",
       "    <tr>\n",
       "      <th>995</th>\n",
       "      <td>99600</td>\n",
       "      <td>0.485472</td>\n",
       "    </tr>\n",
       "    <tr>\n",
       "      <th>996</th>\n",
       "      <td>99700</td>\n",
       "      <td>0.485462</td>\n",
       "    </tr>\n",
       "    <tr>\n",
       "      <th>997</th>\n",
       "      <td>99800</td>\n",
       "      <td>0.485383</td>\n",
       "    </tr>\n",
       "    <tr>\n",
       "      <th>998</th>\n",
       "      <td>99900</td>\n",
       "      <td>0.485288</td>\n",
       "    </tr>\n",
       "  </tbody>\n",
       "</table>\n",
       "<p>999 rows × 2 columns</p>\n",
       "</div>"
      ],
      "text/plain": [
       "      Time  All_movement_of_particles\n",
       "0      100                   0.500053\n",
       "1      200                   0.471825\n",
       "2      300                   0.455022\n",
       "3      400                   0.441741\n",
       "4      500                   0.430833\n",
       "..     ...                        ...\n",
       "994  99500                   0.485308\n",
       "995  99600                   0.485472\n",
       "996  99700                   0.485462\n",
       "997  99800                   0.485383\n",
       "998  99900                   0.485288\n",
       "\n",
       "[999 rows x 2 columns]"
      ]
     },
     "execution_count": 33,
     "metadata": {},
     "output_type": "execute_result"
    }
   ],
   "source": [
    "statistics"
   ]
  },
  {
   "cell_type": "code",
   "execution_count": 34,
   "metadata": {},
   "outputs": [],
   "source": [
    "#x = np.linspace(0, 2, 100)"
   ]
  },
  {
   "cell_type": "code",
   "execution_count": 36,
   "metadata": {},
   "outputs": [
    {
     "data": {
      "text/plain": [
       "<matplotlib.legend.Legend at 0x186bc9543d0>"
      ]
     },
     "execution_count": 36,
     "metadata": {},
     "output_type": "execute_result"
    },
    {
     "data": {
      "image/png": "[encoded data removed]",
      "text/plain": [
       "<Figure size 432x288 with 1 Axes>"
      ]
     },
     "metadata": {
      "needs_background": "light"
     },
     "output_type": "display_data"
    }
   ],
   "source": [
    "fig, ax = plt.subplots()\n",
    "ax.plot(statistics['Time'], statistics['All_movement_of_particles'], label='All movement of particles', color = 'goldenrod', alpha=1.0)\n",
    "\n",
    "#ax.plot(x, x, label='b')\n",
    "#ax.plot(x, x*x, label='c')\n",
    "#ax.plot(x, x*x*x, label='d')\n",
    "ax.grid(axis = 'x', color='0.85')\n",
    "ax.grid(axis = 'y', color = '0.85')\n",
    "\n",
    "ax.set_xlabel('Timestep', fontname = 'Calibri', size = 12, fontweight = 'bold') \n",
    "ax.set_ylabel('All movement of particles', fontname = 'Calibri', size = 12, fontweight = 'bold')\n",
    "\n",
    "ax.set_title('Swarm Plot', fontname = 'Calibri', size = 16, fontweight = 'bold')\n",
    "\n",
    "ax.legend()"
   ]
  },
  {
   "cell_type": "code",
   "execution_count": 37,
   "metadata": {},
   "outputs": [],
   "source": [
    "import pandas as pd\n",
    "\n",
    "statistics_2 = pd.read_csv(\"statistics_2.txt\",\n",
    "                             sep=\" \",\n",
    "                             header=0,\n",
    "                             names=[\"Timestep\",\"All_movement_of_red_particles\",\"All_movement_of_blue_particles\",\"All_movement_of_every_particle\"])"
   ]
  },
  {
   "cell_type": "code",
   "execution_count": 38,
   "metadata": {},
   "outputs": [
    {
     "data": {
      "text/html": [
       "<div>\n",
       "<style scoped>\n",
       "    .dataframe tbody tr th:only-of-type {\n",
       "        vertical-align: middle;\n",
       "    }\n",
       "\n",
       "    .dataframe tbody tr th {\n",
       "        vertical-align: top;\n",
       "    }\n",
       "\n",
       "    .dataframe thead th {\n",
       "        text-align: right;\n",
       "    }\n",
       "</style>\n",
       "<table border=\"1\" class=\"dataframe\">\n",
       "  <thead>\n",
       "    <tr style=\"text-align: right;\">\n",
       "      <th></th>\n",
       "      <th>Timestep</th>\n",
       "      <th>All_movement_of_red_particles</th>\n",
       "      <th>All_movement_of_blue_particles</th>\n",
       "      <th>All_movement_of_every_particle</th>\n",
       "    </tr>\n",
       "  </thead>\n",
       "  <tbody>\n",
       "    <tr>\n",
       "      <th>0</th>\n",
       "      <td>100</td>\n",
       "      <td>-0.487080</td>\n",
       "      <td>0.486417</td>\n",
       "      <td>0.486757</td>\n",
       "    </tr>\n",
       "    <tr>\n",
       "      <th>1</th>\n",
       "      <td>200</td>\n",
       "      <td>-0.465853</td>\n",
       "      <td>0.464102</td>\n",
       "      <td>0.464999</td>\n",
       "    </tr>\n",
       "    <tr>\n",
       "      <th>2</th>\n",
       "      <td>300</td>\n",
       "      <td>-0.450853</td>\n",
       "      <td>0.448333</td>\n",
       "      <td>0.449625</td>\n",
       "    </tr>\n",
       "    <tr>\n",
       "      <th>3</th>\n",
       "      <td>400</td>\n",
       "      <td>-0.438446</td>\n",
       "      <td>0.435289</td>\n",
       "      <td>0.436907</td>\n",
       "    </tr>\n",
       "    <tr>\n",
       "      <th>4</th>\n",
       "      <td>500</td>\n",
       "      <td>-0.427769</td>\n",
       "      <td>0.424065</td>\n",
       "      <td>0.425963</td>\n",
       "    </tr>\n",
       "    <tr>\n",
       "      <th>...</th>\n",
       "      <td>...</td>\n",
       "      <td>...</td>\n",
       "      <td>...</td>\n",
       "      <td>...</td>\n",
       "    </tr>\n",
       "    <tr>\n",
       "      <th>1494</th>\n",
       "      <td>149500</td>\n",
       "      <td>-0.486317</td>\n",
       "      <td>0.485615</td>\n",
       "      <td>0.485975</td>\n",
       "    </tr>\n",
       "    <tr>\n",
       "      <th>1495</th>\n",
       "      <td>149600</td>\n",
       "      <td>-0.486465</td>\n",
       "      <td>0.485771</td>\n",
       "      <td>0.486126</td>\n",
       "    </tr>\n",
       "    <tr>\n",
       "      <th>1496</th>\n",
       "      <td>149700</td>\n",
       "      <td>-0.486636</td>\n",
       "      <td>0.485951</td>\n",
       "      <td>0.486302</td>\n",
       "    </tr>\n",
       "    <tr>\n",
       "      <th>1497</th>\n",
       "      <td>149800</td>\n",
       "      <td>-0.486959</td>\n",
       "      <td>0.486290</td>\n",
       "      <td>0.486633</td>\n",
       "    </tr>\n",
       "    <tr>\n",
       "      <th>1498</th>\n",
       "      <td>149900</td>\n",
       "      <td>-0.487133</td>\n",
       "      <td>0.486473</td>\n",
       "      <td>0.486811</td>\n",
       "    </tr>\n",
       "  </tbody>\n",
       "</table>\n",
       "<p>1499 rows × 4 columns</p>\n",
       "</div>"
      ],
      "text/plain": [
       "      Timestep  All_movement_of_red_particles  All_movement_of_blue_particles  \\\n",
       "0          100                      -0.487080                        0.486417   \n",
       "1          200                      -0.465853                        0.464102   \n",
       "2          300                      -0.450853                        0.448333   \n",
       "3          400                      -0.438446                        0.435289   \n",
       "4          500                      -0.427769                        0.424065   \n",
       "...        ...                            ...                             ...   \n",
       "1494    149500                      -0.486317                        0.485615   \n",
       "1495    149600                      -0.486465                        0.485771   \n",
       "1496    149700                      -0.486636                        0.485951   \n",
       "1497    149800                      -0.486959                        0.486290   \n",
       "1498    149900                      -0.487133                        0.486473   \n",
       "\n",
       "      All_movement_of_every_particle  \n",
       "0                           0.486757  \n",
       "1                           0.464999  \n",
       "2                           0.449625  \n",
       "3                           0.436907  \n",
       "4                           0.425963  \n",
       "...                              ...  \n",
       "1494                        0.485975  \n",
       "1495                        0.486126  \n",
       "1496                        0.486302  \n",
       "1497                        0.486633  \n",
       "1498                        0.486811  \n",
       "\n",
       "[1499 rows x 4 columns]"
      ]
     },
     "execution_count": 38,
     "metadata": {},
     "output_type": "execute_result"
    }
   ],
   "source": [
    "statistics_2"
   ]
  },
  {
   "cell_type": "code",
   "execution_count": 46,
   "metadata": {},
   "outputs": [
    {
     "data": {
      "text/plain": [
       "<matplotlib.legend.Legend at 0x186be0259a0>"
      ]
     },
     "execution_count": 46,
     "metadata": {},
     "output_type": "execute_result"
    },
    {
     "data": {
      "image/png": "[encoded data removed]",
      "text/plain": [
       "<Figure size 432x288 with 1 Axes>"
      ]
     },
     "metadata": {
      "needs_background": "light"
     },
     "output_type": "display_data"
    }
   ],
   "source": [
    "fig, ax = plt.subplots()\n",
    "\n",
    "#Red particles\n",
    "ax.plot(statistics_2['Timestep'], statistics_2['All_movement_of_red_particles'], label='Red particles', color = 'red', alpha=1.0)\n",
    "\n",
    "#Blue particles\n",
    "ax.plot(statistics_2['Timestep'], statistics_2['All_movement_of_blue_particles'], label='Blue particles', color = 'blue', alpha = 1.0)\n",
    "\n",
    "#All (black) particles\n",
    "#ax.plot(statistics_2['Timestep'], statistics_2['All_movement_of_every_particle'], label='All particles', color = 'black', alpha = 1.0)\n",
    "\n",
    "\n",
    "ax.grid(axis = 'x', color='0.85')\n",
    "ax.grid(axis = 'y', color = '0.85')\n",
    "\n",
    "ax.set_xlabel('Timestep', fontname = 'Calibri', size = 12, fontweight = 'bold') \n",
    "ax.set_ylabel('Movement of particles', fontname = 'Calibri', size = 12, fontweight = 'bold')\n",
    "\n",
    "ax.set_title('Swarm Plot 2', fontname = 'Calibri', size = 16, fontweight = 'bold')\n",
    "\n",
    "ax.legend()"
   ]
  },
  {
   "cell_type": "code",
   "execution_count": null,
   "metadata": {},
   "outputs": [],
   "source": []
  },
  {
   "cell_type": "code",
   "execution_count": 61,
   "metadata": {},
   "outputs": [
    {
     "data": {
      "text/plain": [
       "<matplotlib.legend.Legend at 0x26ecf5f3df0>"
      ]
     },
     "execution_count": 61,
     "metadata": {},
     "output_type": "execute_result"
    },
    {
     "data": {
      "image/png": "[encoded data removed]",
      "text/plain": [
       "<Figure size 432x288 with 1 Axes>"
      ]
     },
     "metadata": {
      "needs_background": "light"
     },
     "output_type": "display_data"
    }
   ],
   "source": [
    "fig_s, ax_s = plt.subplots()\n",
    "x = df['Time']\n",
    "y = df['Average_resistance']\n",
    "\n",
    "ax_s.scatter(x, y, alpha=0.5, label = 'Average resistance')\n",
    "\n",
    "ax_s.set_xlabel('Unit of Time', fontname = 'Calibri', size = 12, fontweight = 'bold') \n",
    "ax_s.set_ylabel('Average resistance', fontname = 'Calibri', size = 12, fontweight = 'bold')\n",
    "\n",
    "ax_s.legend()"
   ]
  },
  {
   "cell_type": "code",
   "execution_count": 65,
   "metadata": {},
   "outputs": [
    {
     "data": {
      "image/png": "[encoded data removed]",
      "text/plain": [
       "<Figure size 3996x200 with 1 Axes>"
      ]
     },
     "metadata": {
      "needs_background": "light"
     },
     "output_type": "display_data"
    }
   ],
   "source": [
    "code = np.array(df['Average_resistance'])\n",
    "\n",
    "pixel_per_bar = 4\n",
    "dpi = 100\n",
    "\n",
    "fig = plt.figure(figsize=(len(code) * pixel_per_bar / dpi, 2), dpi=dpi)\n",
    "ax = fig.add_axes([0, 0, 1, 1])  # span the whole figure\n",
    "ax.set_axis_off()\n",
    "ax.imshow(code.reshape(1, -1), cmap='binary', aspect='auto',\n",
    "          interpolation='nearest')\n",
    "plt.show()"
   ]
  },
  {
   "cell_type": "code",
   "execution_count": null,
   "metadata": {},
   "outputs": [],
   "source": []
  }
 ],
 "metadata": {
  "kernelspec": {
   "display_name": "Python 3",
   "language": "python",
   "name": "python3"
  },
  "language_info": {
   "codemirror_mode": {
    "name": "ipython",
    "version": 3
   },
   "file_extension": ".py",
   "mimetype": "text/x-python",
   "name": "python",
   "nbconvert_exporter": "python",
   "pygments_lexer": "ipython3",
   "version": "3.8.5"
  }
 },
 "nbformat": 4,
 "nbformat_minor": 4
}
