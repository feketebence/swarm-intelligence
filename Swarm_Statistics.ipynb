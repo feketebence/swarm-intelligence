{
 "cells": [
  {
   "cell_type": "markdown",
   "metadata": {},
   "source": [
    "**Import**"
   ]
  },
  {
   "cell_type": "code",
   "execution_count": 3,
   "metadata": {},
   "outputs": [],
   "source": [
    "import matplotlib.pyplot as plt\n",
    "import pandas as pd"
   ]
  },
  {
   "cell_type": "markdown",
   "metadata": {},
   "source": [
    "**Read first given .txt**"
   ]
  },
  {
   "cell_type": "code",
   "execution_count": 5,
   "metadata": {},
   "outputs": [],
   "source": [
    "statistics = pd.read_csv(\"statistics.txt\",\n",
    "                             sep=\" \",\n",
    "                             header=0,\n",
    "                             names=[\"Time\",\"All_movement_of_particles\"])"
   ]
  },
  {
   "cell_type": "code",
   "execution_count": 6,
   "metadata": {},
   "outputs": [
    {
     "data": {
      "text/html": [
       "<div>\n",
       "<style scoped>\n",
       "    .dataframe tbody tr th:only-of-type {\n",
       "        vertical-align: middle;\n",
       "    }\n",
       "\n",
       "    .dataframe tbody tr th {\n",
       "        vertical-align: top;\n",
       "    }\n",
       "\n",
       "    .dataframe thead th {\n",
       "        text-align: right;\n",
       "    }\n",
       "</style>\n",
       "<table border=\"1\" class=\"dataframe\">\n",
       "  <thead>\n",
       "    <tr style=\"text-align: right;\">\n",
       "      <th></th>\n",
       "      <th>Time</th>\n",
       "      <th>All_movement_of_particles</th>\n",
       "    </tr>\n",
       "  </thead>\n",
       "  <tbody>\n",
       "    <tr>\n",
       "      <th>0</th>\n",
       "      <td>100</td>\n",
       "      <td>0.500053</td>\n",
       "    </tr>\n",
       "    <tr>\n",
       "      <th>1</th>\n",
       "      <td>200</td>\n",
       "      <td>0.471825</td>\n",
       "    </tr>\n",
       "    <tr>\n",
       "      <th>2</th>\n",
       "      <td>300</td>\n",
       "      <td>0.455022</td>\n",
       "    </tr>\n",
       "    <tr>\n",
       "      <th>3</th>\n",
       "      <td>400</td>\n",
       "      <td>0.441741</td>\n",
       "    </tr>\n",
       "    <tr>\n",
       "      <th>4</th>\n",
       "      <td>500</td>\n",
       "      <td>0.430833</td>\n",
       "    </tr>\n",
       "    <tr>\n",
       "      <th>...</th>\n",
       "      <td>...</td>\n",
       "      <td>...</td>\n",
       "    </tr>\n",
       "    <tr>\n",
       "      <th>994</th>\n",
       "      <td>99500</td>\n",
       "      <td>0.485308</td>\n",
       "    </tr>\n",
       "    <tr>\n",
       "      <th>995</th>\n",
       "      <td>99600</td>\n",
       "      <td>0.485472</td>\n",
       "    </tr>\n",
       "    <tr>\n",
       "      <th>996</th>\n",
       "      <td>99700</td>\n",
       "      <td>0.485462</td>\n",
       "    </tr>\n",
       "    <tr>\n",
       "      <th>997</th>\n",
       "      <td>99800</td>\n",
       "      <td>0.485383</td>\n",
       "    </tr>\n",
       "    <tr>\n",
       "      <th>998</th>\n",
       "      <td>99900</td>\n",
       "      <td>0.485288</td>\n",
       "    </tr>\n",
       "  </tbody>\n",
       "</table>\n",
       "<p>999 rows × 2 columns</p>\n",
       "</div>"
      ],
      "text/plain": [
       "      Time  All_movement_of_particles\n",
       "0      100                   0.500053\n",
       "1      200                   0.471825\n",
       "2      300                   0.455022\n",
       "3      400                   0.441741\n",
       "4      500                   0.430833\n",
       "..     ...                        ...\n",
       "994  99500                   0.485308\n",
       "995  99600                   0.485472\n",
       "996  99700                   0.485462\n",
       "997  99800                   0.485383\n",
       "998  99900                   0.485288\n",
       "\n",
       "[999 rows x 2 columns]"
      ]
     },
     "execution_count": 6,
     "metadata": {},
     "output_type": "execute_result"
    }
   ],
   "source": [
    "statistics"
   ]
  },
  {
   "cell_type": "markdown",
   "metadata": {},
   "source": [
    "**Plot first set of data**"
   ]
  },
  {
   "cell_type": "code",
   "execution_count": 21,
   "metadata": {},
   "outputs": [
    {
     "data": {
      "text/plain": [
       "<matplotlib.legend.Legend at 0x27d4b5c4ac0>"
      ]
     },
     "execution_count": 21,
     "metadata": {},
     "output_type": "execute_result"
    },
    {
     "data": {
      "image/png": "[encoded data removed]",
      "text/plain": [
       "<Figure size 432x288 with 1 Axes>"
      ]
     },
     "metadata": {
      "needs_background": "light"
     },
     "output_type": "display_data"
    }
   ],
   "source": [
    "fig, ax = plt.subplots()\n",
    "ax.plot(statistics['Time'], statistics['All_movement_of_particles'], label='All movement of particles', color = 'goldenrod', alpha=1.0)\n",
    "\n",
    "#ax.plot(x, x, label='b')\n",
    "#ax.plot(x, x*x, label='c')\n",
    "#ax.plot(x, x*x*x, label='d')\n",
    "ax.grid(axis = 'x', color='0.85')\n",
    "ax.grid(axis = 'y', color = '0.85')\n",
    "\n",
    "ax.set_xlabel('Timestep', fontname = 'Calibri', size = 12, fontweight = 'bold') \n",
    "ax.set_ylabel('All movement of particles', fontname = 'Calibri', size = 12, fontweight = 'bold')\n",
    "\n",
    "ax.set_title('First set of data', fontname = 'Calibri', size = 16, fontweight = 'bold')\n",
    "\n",
    "ax.legend()"
   ]
  },
  {
   "cell_type": "markdown",
   "metadata": {},
   "source": [
    "**Read second given .txt file**"
   ]
  },
  {
   "cell_type": "code",
   "execution_count": 8,
   "metadata": {},
   "outputs": [],
   "source": [
    "statistics_2 = pd.read_csv(\"statistics_2.txt\",\n",
    "                             sep=\" \",\n",
    "                             header=0,\n",
    "                             names=[\"Timestep\",\"All_movement_of_red_particles\",\"All_movement_of_blue_particles\",\"All_movement_of_every_particle\"])"
   ]
  },
  {
   "cell_type": "code",
   "execution_count": 9,
   "metadata": {},
   "outputs": [
    {
     "data": {
      "text/html": [
       "<div>\n",
       "<style scoped>\n",
       "    .dataframe tbody tr th:only-of-type {\n",
       "        vertical-align: middle;\n",
       "    }\n",
       "\n",
       "    .dataframe tbody tr th {\n",
       "        vertical-align: top;\n",
       "    }\n",
       "\n",
       "    .dataframe thead th {\n",
       "        text-align: right;\n",
       "    }\n",
       "</style>\n",
       "<table border=\"1\" class=\"dataframe\">\n",
       "  <thead>\n",
       "    <tr style=\"text-align: right;\">\n",
       "      <th></th>\n",
       "      <th>Timestep</th>\n",
       "      <th>All_movement_of_red_particles</th>\n",
       "      <th>All_movement_of_blue_particles</th>\n",
       "      <th>All_movement_of_every_particle</th>\n",
       "    </tr>\n",
       "  </thead>\n",
       "  <tbody>\n",
       "    <tr>\n",
       "      <th>0</th>\n",
       "      <td>100</td>\n",
       "      <td>-0.487080</td>\n",
       "      <td>0.486417</td>\n",
       "      <td>0.486757</td>\n",
       "    </tr>\n",
       "    <tr>\n",
       "      <th>1</th>\n",
       "      <td>200</td>\n",
       "      <td>-0.465853</td>\n",
       "      <td>0.464102</td>\n",
       "      <td>0.464999</td>\n",
       "    </tr>\n",
       "    <tr>\n",
       "      <th>2</th>\n",
       "      <td>300</td>\n",
       "      <td>-0.450853</td>\n",
       "      <td>0.448333</td>\n",
       "      <td>0.449625</td>\n",
       "    </tr>\n",
       "    <tr>\n",
       "      <th>3</th>\n",
       "      <td>400</td>\n",
       "      <td>-0.438446</td>\n",
       "      <td>0.435289</td>\n",
       "      <td>0.436907</td>\n",
       "    </tr>\n",
       "    <tr>\n",
       "      <th>4</th>\n",
       "      <td>500</td>\n",
       "      <td>-0.427769</td>\n",
       "      <td>0.424065</td>\n",
       "      <td>0.425963</td>\n",
       "    </tr>\n",
       "    <tr>\n",
       "      <th>...</th>\n",
       "      <td>...</td>\n",
       "      <td>...</td>\n",
       "      <td>...</td>\n",
       "      <td>...</td>\n",
       "    </tr>\n",
       "    <tr>\n",
       "      <th>1494</th>\n",
       "      <td>149500</td>\n",
       "      <td>-0.486317</td>\n",
       "      <td>0.485615</td>\n",
       "      <td>0.485975</td>\n",
       "    </tr>\n",
       "    <tr>\n",
       "      <th>1495</th>\n",
       "      <td>149600</td>\n",
       "      <td>-0.486465</td>\n",
       "      <td>0.485771</td>\n",
       "      <td>0.486126</td>\n",
       "    </tr>\n",
       "    <tr>\n",
       "      <th>1496</th>\n",
       "      <td>149700</td>\n",
       "      <td>-0.486636</td>\n",
       "      <td>0.485951</td>\n",
       "      <td>0.486302</td>\n",
       "    </tr>\n",
       "    <tr>\n",
       "      <th>1497</th>\n",
       "      <td>149800</td>\n",
       "      <td>-0.486959</td>\n",
       "      <td>0.486290</td>\n",
       "      <td>0.486633</td>\n",
       "    </tr>\n",
       "    <tr>\n",
       "      <th>1498</th>\n",
       "      <td>149900</td>\n",
       "      <td>-0.487133</td>\n",
       "      <td>0.486473</td>\n",
       "      <td>0.486811</td>\n",
       "    </tr>\n",
       "  </tbody>\n",
       "</table>\n",
       "<p>1499 rows × 4 columns</p>\n",
       "</div>"
      ],
      "text/plain": [
       "      Timestep  All_movement_of_red_particles  All_movement_of_blue_particles  \\\n",
       "0          100                      -0.487080                        0.486417   \n",
       "1          200                      -0.465853                        0.464102   \n",
       "2          300                      -0.450853                        0.448333   \n",
       "3          400                      -0.438446                        0.435289   \n",
       "4          500                      -0.427769                        0.424065   \n",
       "...        ...                            ...                             ...   \n",
       "1494    149500                      -0.486317                        0.485615   \n",
       "1495    149600                      -0.486465                        0.485771   \n",
       "1496    149700                      -0.486636                        0.485951   \n",
       "1497    149800                      -0.486959                        0.486290   \n",
       "1498    149900                      -0.487133                        0.486473   \n",
       "\n",
       "      All_movement_of_every_particle  \n",
       "0                           0.486757  \n",
       "1                           0.464999  \n",
       "2                           0.449625  \n",
       "3                           0.436907  \n",
       "4                           0.425963  \n",
       "...                              ...  \n",
       "1494                        0.485975  \n",
       "1495                        0.486126  \n",
       "1496                        0.486302  \n",
       "1497                        0.486633  \n",
       "1498                        0.486811  \n",
       "\n",
       "[1499 rows x 4 columns]"
      ]
     },
     "execution_count": 9,
     "metadata": {},
     "output_type": "execute_result"
    }
   ],
   "source": [
    "statistics_2"
   ]
  },
  {
   "cell_type": "markdown",
   "metadata": {},
   "source": [
    "**Plot second set of data**"
   ]
  },
  {
   "cell_type": "code",
   "execution_count": 22,
   "metadata": {},
   "outputs": [
    {
     "data": {
      "text/plain": [
       "<matplotlib.legend.Legend at 0x27d4b6349a0>"
      ]
     },
     "execution_count": 22,
     "metadata": {},
     "output_type": "execute_result"
    },
    {
     "data": {
      "image/png": "[encoded data removed]",
      "text/plain": [
       "<Figure size 432x288 with 1 Axes>"
      ]
     },
     "metadata": {
      "needs_background": "light"
     },
     "output_type": "display_data"
    }
   ],
   "source": [
    "fig, ax = plt.subplots()\n",
    "\n",
    "#Red particles\n",
    "ax.plot(statistics_2['Timestep'], statistics_2['All_movement_of_red_particles'], label='Red particles', color = 'red', alpha=1.0)\n",
    "\n",
    "#Blue particles\n",
    "ax.plot(statistics_2['Timestep'], statistics_2['All_movement_of_blue_particles'], label='Blue particles', color = 'blue', alpha = 1.0)\n",
    "\n",
    "#All (black) particles\n",
    "#ax.plot(statistics_2['Timestep'], statistics_2['All_movement_of_every_particle'], label='All particles', color = 'black', alpha = 1.0)\n",
    "\n",
    "\n",
    "ax.grid(axis = 'x', color='0.85')\n",
    "ax.grid(axis = 'y', color = '0.85')\n",
    "\n",
    "ax.set_xlabel('Timestep', fontname = 'Calibri', size = 12, fontweight = 'bold') \n",
    "ax.set_ylabel('Movement of particles', fontname = 'Calibri', size = 12, fontweight = 'bold')\n",
    "\n",
    "ax.set_title('Second set of data', fontname = 'Calibri', size = 16, fontweight = 'bold')\n",
    "\n",
    "ax.legend()"
   ]
  },
  {
   "cell_type": "markdown",
   "metadata": {},
   "source": [
    "**Our results I. data**"
   ]
  },
  {
   "cell_type": "code",
   "execution_count": 11,
   "metadata": {},
   "outputs": [],
   "source": [
    "particles_1800 = pd.read_csv(\"1800particles_statistics.txt\",\n",
    "                             sep=\" \",\n",
    "                             header=0,\n",
    "                             names=[\"Timestep\",\"All_movement_of_red_particles\",\"All_movement_of_blue_particles\",\"All_movement_of_every_particle\"])"
   ]
  },
  {
   "cell_type": "code",
   "execution_count": 12,
   "metadata": {},
   "outputs": [
    {
     "data": {
      "text/html": [
       "<div>\n",
       "<style scoped>\n",
       "    .dataframe tbody tr th:only-of-type {\n",
       "        vertical-align: middle;\n",
       "    }\n",
       "\n",
       "    .dataframe tbody tr th {\n",
       "        vertical-align: top;\n",
       "    }\n",
       "\n",
       "    .dataframe thead th {\n",
       "        text-align: right;\n",
       "    }\n",
       "</style>\n",
       "<table border=\"1\" class=\"dataframe\">\n",
       "  <thead>\n",
       "    <tr style=\"text-align: right;\">\n",
       "      <th></th>\n",
       "      <th>Timestep</th>\n",
       "      <th>All_movement_of_red_particles</th>\n",
       "      <th>All_movement_of_blue_particles</th>\n",
       "      <th>All_movement_of_every_particle</th>\n",
       "    </tr>\n",
       "  </thead>\n",
       "  <tbody>\n",
       "    <tr>\n",
       "      <th>0</th>\n",
       "      <td>1</td>\n",
       "      <td>-0.493457</td>\n",
       "      <td>0.493741</td>\n",
       "      <td>0.493602</td>\n",
       "    </tr>\n",
       "    <tr>\n",
       "      <th>1</th>\n",
       "      <td>2</td>\n",
       "      <td>-0.487824</td>\n",
       "      <td>0.488353</td>\n",
       "      <td>0.488094</td>\n",
       "    </tr>\n",
       "    <tr>\n",
       "      <th>2</th>\n",
       "      <td>3</td>\n",
       "      <td>-0.483950</td>\n",
       "      <td>0.484648</td>\n",
       "      <td>0.484306</td>\n",
       "    </tr>\n",
       "    <tr>\n",
       "      <th>3</th>\n",
       "      <td>4</td>\n",
       "      <td>-0.480401</td>\n",
       "      <td>0.481253</td>\n",
       "      <td>0.480836</td>\n",
       "    </tr>\n",
       "    <tr>\n",
       "      <th>4</th>\n",
       "      <td>5</td>\n",
       "      <td>-0.476900</td>\n",
       "      <td>0.477904</td>\n",
       "      <td>0.477413</td>\n",
       "    </tr>\n",
       "    <tr>\n",
       "      <th>...</th>\n",
       "      <td>...</td>\n",
       "      <td>...</td>\n",
       "      <td>...</td>\n",
       "      <td>...</td>\n",
       "    </tr>\n",
       "    <tr>\n",
       "      <th>2494</th>\n",
       "      <td>2495</td>\n",
       "      <td>-0.507730</td>\n",
       "      <td>0.507394</td>\n",
       "      <td>0.507558</td>\n",
       "    </tr>\n",
       "    <tr>\n",
       "      <th>2495</th>\n",
       "      <td>2496</td>\n",
       "      <td>-0.508162</td>\n",
       "      <td>0.507808</td>\n",
       "      <td>0.507981</td>\n",
       "    </tr>\n",
       "    <tr>\n",
       "      <th>2496</th>\n",
       "      <td>2497</td>\n",
       "      <td>-0.508594</td>\n",
       "      <td>0.508220</td>\n",
       "      <td>0.508403</td>\n",
       "    </tr>\n",
       "    <tr>\n",
       "      <th>2497</th>\n",
       "      <td>2498</td>\n",
       "      <td>-0.509086</td>\n",
       "      <td>0.508691</td>\n",
       "      <td>0.508884</td>\n",
       "    </tr>\n",
       "    <tr>\n",
       "      <th>2498</th>\n",
       "      <td>2499</td>\n",
       "      <td>-0.509692</td>\n",
       "      <td>0.509270</td>\n",
       "      <td>0.509476</td>\n",
       "    </tr>\n",
       "  </tbody>\n",
       "</table>\n",
       "<p>2499 rows × 4 columns</p>\n",
       "</div>"
      ],
      "text/plain": [
       "      Timestep  All_movement_of_red_particles  All_movement_of_blue_particles  \\\n",
       "0            1                      -0.493457                        0.493741   \n",
       "1            2                      -0.487824                        0.488353   \n",
       "2            3                      -0.483950                        0.484648   \n",
       "3            4                      -0.480401                        0.481253   \n",
       "4            5                      -0.476900                        0.477904   \n",
       "...        ...                            ...                             ...   \n",
       "2494      2495                      -0.507730                        0.507394   \n",
       "2495      2496                      -0.508162                        0.507808   \n",
       "2496      2497                      -0.508594                        0.508220   \n",
       "2497      2498                      -0.509086                        0.508691   \n",
       "2498      2499                      -0.509692                        0.509270   \n",
       "\n",
       "      All_movement_of_every_particle  \n",
       "0                           0.493602  \n",
       "1                           0.488094  \n",
       "2                           0.484306  \n",
       "3                           0.480836  \n",
       "4                           0.477413  \n",
       "...                              ...  \n",
       "2494                        0.507558  \n",
       "2495                        0.507981  \n",
       "2496                        0.508403  \n",
       "2497                        0.508884  \n",
       "2498                        0.509476  \n",
       "\n",
       "[2499 rows x 4 columns]"
      ]
     },
     "execution_count": 12,
     "metadata": {},
     "output_type": "execute_result"
    }
   ],
   "source": [
    "particles_1800"
   ]
  },
  {
   "cell_type": "markdown",
   "metadata": {},
   "source": [
    "**Our results I. Plot**"
   ]
  },
  {
   "cell_type": "code",
   "execution_count": 24,
   "metadata": {},
   "outputs": [
    {
     "data": {
      "text/plain": [
       "<matplotlib.legend.Legend at 0x27d4b703c10>"
      ]
     },
     "execution_count": 24,
     "metadata": {},
     "output_type": "execute_result"
    },
    {
     "data": {
      "image/png": "[encoded data removed]",
      "text/plain": [
       "<Figure size 432x288 with 1 Axes>"
      ]
     },
     "metadata": {
      "needs_background": "light"
     },
     "output_type": "display_data"
    }
   ],
   "source": [
    "fig, ax = plt.subplots()\n",
    "\n",
    "#Red particles\n",
    "ax.plot(particles_1800['Timestep'], particles_1800['All_movement_of_red_particles'], label='Red particles', color = 'red', alpha=1.0)\n",
    "\n",
    "#Blue particles\n",
    "ax.plot(particles_1800['Timestep'], particles_1800['All_movement_of_blue_particles'], label='Blue particles', color = 'blue', alpha = 1.0)\n",
    "\n",
    "#All (black) particles\n",
    "#ax.plot(particles_1800['Timestep'], particles_1800['All_movement_of_every_particle'], label='All particles', color = 'black', alpha = 1.0)\n",
    "\n",
    "\n",
    "ax.grid(axis = 'x', color='0.85')\n",
    "ax.grid(axis = 'y', color = '0.85')\n",
    "\n",
    "ax.set_xlabel('Timestep', fontname = 'Calibri', size = 12, fontweight = 'bold') \n",
    "ax.set_ylabel('Movement of particles', fontname = 'Calibri', size = 12, fontweight = 'bold')\n",
    "\n",
    "ax.set_title('I. Plot', fontname = 'Calibri', size = 16, fontweight = 'bold')\n",
    "\n",
    "ax.legend()"
   ]
  },
  {
   "cell_type": "markdown",
   "metadata": {},
   "source": [
    "**Our results II. data**"
   ]
  },
  {
   "cell_type": "code",
   "execution_count": 14,
   "metadata": {},
   "outputs": [],
   "source": [
    "particles_weird = pd.read_csv(\"weird_640x480_2000particles_addForce0_01_statistics.txt\",\n",
    "                             sep=\" \",\n",
    "                             header=0,\n",
    "                             names=[\"Timestep\",\"All_movement_of_red_particles\",\"All_movement_of_blue_particles\",\"All_movement_of_every_particle\"])"
   ]
  },
  {
   "cell_type": "code",
   "execution_count": 15,
   "metadata": {},
   "outputs": [
    {
     "data": {
      "text/html": [
       "<div>\n",
       "<style scoped>\n",
       "    .dataframe tbody tr th:only-of-type {\n",
       "        vertical-align: middle;\n",
       "    }\n",
       "\n",
       "    .dataframe tbody tr th {\n",
       "        vertical-align: top;\n",
       "    }\n",
       "\n",
       "    .dataframe thead th {\n",
       "        text-align: right;\n",
       "    }\n",
       "</style>\n",
       "<table border=\"1\" class=\"dataframe\">\n",
       "  <thead>\n",
       "    <tr style=\"text-align: right;\">\n",
       "      <th></th>\n",
       "      <th>Timestep</th>\n",
       "      <th>All_movement_of_red_particles</th>\n",
       "      <th>All_movement_of_blue_particles</th>\n",
       "      <th>All_movement_of_every_particle</th>\n",
       "    </tr>\n",
       "  </thead>\n",
       "  <tbody>\n",
       "    <tr>\n",
       "      <th>0</th>\n",
       "      <td>1</td>\n",
       "      <td>-0.495186</td>\n",
       "      <td>0.495538</td>\n",
       "      <td>0.495369</td>\n",
       "    </tr>\n",
       "    <tr>\n",
       "      <th>1</th>\n",
       "      <td>2</td>\n",
       "      <td>-0.487840</td>\n",
       "      <td>0.488731</td>\n",
       "      <td>0.488302</td>\n",
       "    </tr>\n",
       "    <tr>\n",
       "      <th>2</th>\n",
       "      <td>3</td>\n",
       "      <td>-0.484701</td>\n",
       "      <td>0.485821</td>\n",
       "      <td>0.485282</td>\n",
       "    </tr>\n",
       "    <tr>\n",
       "      <th>3</th>\n",
       "      <td>4</td>\n",
       "      <td>-0.484773</td>\n",
       "      <td>0.485888</td>\n",
       "      <td>0.485351</td>\n",
       "    </tr>\n",
       "    <tr>\n",
       "      <th>4</th>\n",
       "      <td>5</td>\n",
       "      <td>-0.481504</td>\n",
       "      <td>0.482858</td>\n",
       "      <td>0.482207</td>\n",
       "    </tr>\n",
       "    <tr>\n",
       "      <th>...</th>\n",
       "      <td>...</td>\n",
       "      <td>...</td>\n",
       "      <td>...</td>\n",
       "      <td>...</td>\n",
       "    </tr>\n",
       "    <tr>\n",
       "      <th>2494</th>\n",
       "      <td>2495</td>\n",
       "      <td>-0.478660</td>\n",
       "      <td>0.480222</td>\n",
       "      <td>0.479471</td>\n",
       "    </tr>\n",
       "    <tr>\n",
       "      <th>2495</th>\n",
       "      <td>2496</td>\n",
       "      <td>-0.480057</td>\n",
       "      <td>0.481517</td>\n",
       "      <td>0.480815</td>\n",
       "    </tr>\n",
       "    <tr>\n",
       "      <th>2496</th>\n",
       "      <td>2497</td>\n",
       "      <td>-0.480656</td>\n",
       "      <td>0.482073</td>\n",
       "      <td>0.481391</td>\n",
       "    </tr>\n",
       "    <tr>\n",
       "      <th>2497</th>\n",
       "      <td>2498</td>\n",
       "      <td>-0.481508</td>\n",
       "      <td>0.482861</td>\n",
       "      <td>0.482210</td>\n",
       "    </tr>\n",
       "    <tr>\n",
       "      <th>2498</th>\n",
       "      <td>2499</td>\n",
       "      <td>-0.481700</td>\n",
       "      <td>0.483040</td>\n",
       "      <td>0.482395</td>\n",
       "    </tr>\n",
       "  </tbody>\n",
       "</table>\n",
       "<p>2499 rows × 4 columns</p>\n",
       "</div>"
      ],
      "text/plain": [
       "      Timestep  All_movement_of_red_particles  All_movement_of_blue_particles  \\\n",
       "0            1                      -0.495186                        0.495538   \n",
       "1            2                      -0.487840                        0.488731   \n",
       "2            3                      -0.484701                        0.485821   \n",
       "3            4                      -0.484773                        0.485888   \n",
       "4            5                      -0.481504                        0.482858   \n",
       "...        ...                            ...                             ...   \n",
       "2494      2495                      -0.478660                        0.480222   \n",
       "2495      2496                      -0.480057                        0.481517   \n",
       "2496      2497                      -0.480656                        0.482073   \n",
       "2497      2498                      -0.481508                        0.482861   \n",
       "2498      2499                      -0.481700                        0.483040   \n",
       "\n",
       "      All_movement_of_every_particle  \n",
       "0                           0.495369  \n",
       "1                           0.488302  \n",
       "2                           0.485282  \n",
       "3                           0.485351  \n",
       "4                           0.482207  \n",
       "...                              ...  \n",
       "2494                        0.479471  \n",
       "2495                        0.480815  \n",
       "2496                        0.481391  \n",
       "2497                        0.482210  \n",
       "2498                        0.482395  \n",
       "\n",
       "[2499 rows x 4 columns]"
      ]
     },
     "execution_count": 15,
     "metadata": {},
     "output_type": "execute_result"
    }
   ],
   "source": [
    "particles_weird"
   ]
  },
  {
   "cell_type": "markdown",
   "metadata": {},
   "source": [
    "**Our results II. Plot**"
   ]
  },
  {
   "cell_type": "code",
   "execution_count": 25,
   "metadata": {},
   "outputs": [
    {
     "data": {
      "text/plain": [
       "<matplotlib.legend.Legend at 0x27d4b773700>"
      ]
     },
     "execution_count": 25,
     "metadata": {},
     "output_type": "execute_result"
    },
    {
     "data": {
      "image/png": "[encoded data removed]",
      "text/plain": [
       "<Figure size 432x288 with 1 Axes>"
      ]
     },
     "metadata": {
      "needs_background": "light"
     },
     "output_type": "display_data"
    }
   ],
   "source": [
    "fig, ax = plt.subplots()\n",
    "\n",
    "#Red particles\n",
    "ax.plot(particles_weird['Timestep'], particles_weird['All_movement_of_red_particles'], label='Red particles', color = 'red', alpha=1.0)\n",
    "\n",
    "#Blue particles\n",
    "ax.plot(particles_weird['Timestep'], particles_weird['All_movement_of_blue_particles'], label='Blue particles', color = 'blue', alpha = 1.0)\n",
    "\n",
    "#All (black) particles\n",
    "#ax.plot(particles_weird['Timestep'], particles_weird['All_movement_of_every_particle'], label='All particles', color = 'black', alpha = 1.0)\n",
    "\n",
    "\n",
    "ax.grid(axis = 'x', color='0.85')\n",
    "ax.grid(axis = 'y', color = '0.85')\n",
    "\n",
    "ax.set_xlabel('Timestep', fontname = 'Calibri', size = 12, fontweight = 'bold') \n",
    "ax.set_ylabel('Movement of particles', fontname = 'Calibri', size = 12, fontweight = 'bold')\n",
    "\n",
    "ax.set_title('II. Plot', fontname = 'Calibri', size = 16, fontweight = 'bold')\n",
    "\n",
    "ax.legend()"
   ]
  },
  {
   "cell_type": "code",
   "execution_count": null,
   "metadata": {},
   "outputs": [],
   "source": []
  }
 ],
 "metadata": {
  "kernelspec": {
   "display_name": "Python 3",
   "language": "python",
   "name": "python3"
  },
  "language_info": {
   "codemirror_mode": {
    "name": "ipython",
    "version": 3
   },
   "file_extension": ".py",
   "mimetype": "text/x-python",
   "name": "python",
   "nbconvert_exporter": "python",
   "pygments_lexer": "ipython3",
   "version": "3.8.5"
  }
 },
 "nbformat": 4,
 "nbformat_minor": 4
}
